{
 "cells": [
  {
   "cell_type": "markdown",
   "metadata": {},
   "source": [
    "# [A01] Heap"
   ]
  },
  {
   "cell_type": "markdown",
   "metadata": {},
   "source": [
    "## 1. What is Heap and When to Use It\n",
    "\n",
    "A [heap](https://en.wikipedia.org/wiki/Heap_(data_structure)) is a specialized **tree-based data structure** which is essentially an almost complete tree that satisfies the **heap property**. The heap property differs between types of heap. For example, in a max heap, the heap property would be: \"the data stored in the parent node is always larger than data in its children\". A min heap is the opposite. \n",
    "\n",
    "Heap as a data structure is **partially sorted**. In a max/min heap, relationships between most nodes other than the root node are not consistent. The heap is only useful when extracting the max/min value in the tree, which is the root. This is a potential drawback of heap if we want to explore the values between the extremes.\n",
    "\n",
    "Heap is a most common implementation of [priority queue](https://en.wikipedia.org/wiki/Priority_queue), which is a list-like abstract data type that stores each element with a \"priority\" and automatically sorts them with each push/pull. While heap and priority queue are two distinct concepts, programmers often use them interchangeably as they serve the same function. For example, python's [heapq library](https://docs.python.org/3.8/library/heapq.html#priority-queue-implementation-notes) contains an implementation of priority queue using heap."
   ]
  },
  {
   "cell_type": "markdown",
   "metadata": {},
   "source": [
    "## 2. Implementations\n",
    "\n",
    "\n",
    "Pushing data into heap that uses binary tree involves 2 steps. First we need to insert the node such that the tree is complete (all nodes except leaves have two children, and all nodes are as far to the left as possible). Second, we need to rearrange the tree such that it satisfy the heap property with the addition of a new node. \n",
    "\n",
    "### 2.1. Implementation Using Binary Tree\n",
    "\n",
    "(Related problem: [[LC919] Complete Binary Tree Inserter](https://leetcode.com/problems/complete-binary-tree-inserter/))  \n",
    "\n",
    "For a binary tree implementation of the heap, the two problems needs to be solved with additional components in the binary tree data structure. ~~At first I attempted to solve the first problem by keeping track of the number of nodes in the tree, since the shape of a completed tree is unique to the number of nodes in it. However, predicting the path to traverse to the right position using only a number proved to be too complicated.~~ The solution to the first problem is to keep track of the incomplete nodes in the heap data structure, so that they can be pulled out and attach new children if needed.  \n",
    "\n",
    "The second problem can be solved by modifying the binary tree into a bi-directional tree. This allow the newly installed leaf to climb all the way up to the root to make sure the heap property is satisfied."
   ]
  },
  {
   "cell_type": "code",
   "execution_count": 78,
   "metadata": {},
   "outputs": [],
   "source": [
    "class BiDirBTree:\n",
    "    \n",
    "    def __init__(self, data, parent):\n",
    "        self.parent = parent\n",
    "        self.data = data\n",
    "        self.left = None\n",
    "        self.right = None\n",
    "        \n",
    "\n",
    "class HeapTree:\n",
    "    \n",
    "    def __init__(self, data):\n",
    "        self.tree = BiDirBTree(data, None)\n",
    "        self.queue = [self.tree] # list of potentially imcomplete nodes \n",
    "       \n",
    "    \n",
    "    def swap(self, a, b):\n",
    "        a.data, b.data = b.data, a.data\n",
    "    \n",
    "    \n",
    "    # push new data into the heap and rearrange it to satisfiy max-heap property\n",
    "    def push(self, data):\n",
    "\n",
    "        while self.queue:\n",
    "            \n",
    "            # pull out the first incomplete node\n",
    "            next_incomplete_node = self.queue[0]\n",
    "            new_child = BiDirBTree(data, next_incomplete_node)\n",
    "            \n",
    "            # check if the node is complete; if not, attach child\n",
    "            if next_incomplete_node.left is None:\n",
    "                next_incomplete_node.left = new_child\n",
    "                self.queue.append(next_incomplete_node.left)\n",
    "                break\n",
    "            elif next_incomplete_node.right is None:\n",
    "                next_incomplete_node.right = new_child\n",
    "                self.queue.append(next_incomplete_node.right)\n",
    "                break\n",
    "            # if the node is complete, throw it out of the queue\n",
    "            else: \n",
    "                self.queue.pop(0)\n",
    "        \n",
    "        # traverse up the tree to enforce heap property\n",
    "        cur = new_child\n",
    "        while cur.parent is not None and cur.data > cur.parent.data:\n",
    "            self.swap(cur.parent, cur)\n",
    "            cur = cur.parent\n",
    "    \n",
    "    \n",
    "    # pop out the largest element and rearrange heap\n",
    "    def pop(self):\n",
    "        \n",
    "        # pull out the last incomplete node\n",
    "        last_incomplete_node = self.queue.pop(-1) \n",
    "        # replace root with that value\n",
    "        output = self.tree.data\n",
    "        self.swap(self.tree, last_incomplete_node)\n",
    "        # delete the last incomplete node\n",
    "        if last_incomplete_node.parent:\n",
    "            if last_incomplete_node.parent.right:\n",
    "                last_incomplete_node.parent.right = None\n",
    "            else:\n",
    "                last_incomplete_node.parent.left = None\n",
    "        \n",
    "        # rearrange nodes \n",
    "        self.heapify(self.tree)\n",
    "        return output\n",
    "    \n",
    "    \n",
    "    def heapify(self, cur):\n",
    "        left = cur.left.data if cur.left else 0\n",
    "        right = cur.right.data if cur.right else 0\n",
    "        \n",
    "        if cur.right and right>left and right>cur.data:\n",
    "            self.swap(cur.right, cur)\n",
    "            self.heapify(cur.right)\n",
    "        elif cur.left and left>right and left>cur.data:\n",
    "            self.swap(cur.left, cur)\n",
    "            self.heapify(cur.left)additional\n",
    "        else: return"
   ]
  },
  {
   "cell_type": "code",
   "execution_count": 80,
   "metadata": {},
   "outputs": [
    {
     "name": "stdout",
     "output_type": "stream",
     "text": [
      "5\n",
      "4\n",
      "3\n"
     ]
    }
   ],
   "source": [
    "htree = HeapTree(1)\n",
    "htree.push(2)\n",
    "htree.push(3)\n",
    "htree.push(4)\n",
    "htree.push(5)\n",
    "print(htree.pop())\n",
    "print(htree.pop())\n",
    "print(htree.pop())"
   ]
  },
  {
   "cell_type": "markdown",
   "metadata": {},
   "source": [
    "While the binary tree is consistent with the conceptual diagram, it is relatively cumbersome to implement. The operations involves a lot of object swapping and tree traversing, which is not human friendly. The operations are `O(logn)`, since only one path from root to leaf is traversed. However, the queue in the heap data structure takes up an extra `O(0.5n)=O(n)` space, and the pointers in the BiDirTree structure also takes up space."
   ]
  },
  {
   "cell_type": "markdown",
   "metadata": {},
   "source": [
    "### 2.2. Implementation Using Array\n",
    "\n",
    "Since the binary tree is complete, we can flatten the tree into an array. The array represent a preorder traversal of the binary tree, whose number of nodes in each layer constitute a geometric sequence of 2. Parent and children notes can be access by index calculation. The following diagram shows a min-heap and corresponding array representation.\n",
    "\n",
    "![Tree to array](https://www.geeksforgeeks.org/wp-content/uploads/binaryheap.png)\n",
    "\n",
    "Using observation, we can see patterns for accessing neighboring nodes of node `heap[i]`:\n",
    "- parent: `heap[(i-1)/2]`\n",
    "- left child: `heap[i*2+1]`\n",
    "- right child: `heap[i*2+2]`"
   ]
  },
  {
   "cell_type": "code",
   "execution_count": 95,
   "metadata": {},
   "outputs": [],
   "source": [
    "class Heap:\n",
    "    def __init__(self, data):\n",
    "        self.data = data\n",
    "        \n",
    "    # helper    \n",
    "    def swap(self, ai, bi):\n",
    "        self.data[ai], self.data[bi] = self.data[bi], self.data[ai]\n",
    "        \n",
    "    \n",
    "    def push(self, data):\n",
    "        # append data to the end of array \n",
    "        # (aka left most node in bottom layer of the binary tree)\n",
    "        self.data.append(data)\n",
    "        \n",
    "        # using index to traverse up the tree s.t. it satisfy heap property\n",
    "        cur = len(self.data)-1\n",
    "        \n",
    "        # rearrange: while cur is not at the top and cur is larger than its parent\n",
    "        while cur!=0 and self.data[(cur-1)//2] < self.data[cur]:\n",
    "            self.swap((cur-1)//2, cur)\n",
    "            cur = (cur-1)//2\n",
    "    \n",
    "    \n",
    "    def pop(self):\n",
    "        res = self.data.pop(0)\n",
    "        self.heapify(0)\n",
    "        return res\n",
    "        \n",
    "    \n",
    "    # rearrange a partially heapified array starting from index i\n",
    "    def heapify(self, i):\n",
    "        left = i*2+1\n",
    "        right = i*2+2\n",
    "        largest = i\n",
    "        \n",
    "        # check which node is the largest; \n",
    "        if left<len(self.data) and self.data[left]>self.data[i]:\n",
    "            largest = left\n",
    "        elif right<len(self.data) and self.data[right]>self.data[i]:\n",
    "            largest = right\n",
    "        \n",
    "        # if i is not largest, swap it\n",
    "        if largest!=i:\n",
    "            self.swap(largest, i)\n",
    "            self.heapify(largest)"
   ]
  },
  {
   "cell_type": "code",
   "execution_count": 96,
   "metadata": {},
   "outputs": [
    {
     "name": "stdout",
     "output_type": "stream",
     "text": [
      "[9, 5, 7, 1, 4, 2]\n",
      "9\n",
      "7\n",
      "5\n",
      "[4, 1, 2]\n"
     ]
    }
   ],
   "source": [
    "h = Heap([2,1])\n",
    "h.push(9)\n",
    "h.push(4)\n",
    "h.push(5)\n",
    "h.push(7)\n",
    "print(h.data)\n",
    "print(h.pop())\n",
    "print(h.pop())\n",
    "print(h.pop())\n",
    "print(h.data)"
   ]
  },
  {
   "cell_type": "markdown",
   "metadata": {},
   "source": [
    "### 2.3. Conclusion\n",
    "\n",
    "Both method follows the same idea with their operation. `heap.push()` pushes to the last node of the complete tree and walk upwards until the orders are correct. `heap.pop()` replaces value of that top node with value of the last node and walk downwards. However, the array is a much better implementation from both programmer's and memory's perspective."
   ]
  },
  {
   "cell_type": "markdown",
   "metadata": {},
   "source": [
    "## 3. Applications"
   ]
  },
  {
   "cell_type": "markdown",
   "metadata": {},
   "source": [
    "### 3.1. Heap Sort\n",
    "\n",
    "Heap sort is one of the best sorting algorithms out there. It works by pushing everything into a heapified array and popping everything back out, which gives it a `O(nlogn)` time complexity across the board. The algorithm also gets bonus points by allowing sorting in place, giving it `O(1)` auxiliary space complexity."
   ]
  },
  {
   "cell_type": "code",
   "execution_count": 119,
   "metadata": {},
   "outputs": [],
   "source": [
    "def heapsort(arr):\n",
    "    h = Heap([])\n",
    "    l = len(arr)\n",
    "    for i in range(l):\n",
    "        h.push(arr.pop())\n",
    "    for i in range(l):\n",
    "        arr.append(h.pop())\n",
    "    return arr"
   ]
  },
  {
   "cell_type": "code",
   "execution_count": 120,
   "metadata": {},
   "outputs": [
    {
     "name": "stdout",
     "output_type": "stream",
     "text": [
      "[9, 8, 7, 6, 5, 2, 3, 1]\n",
      "[35, 23, 20, 14, 10, 12, 9, 8]\n"
     ]
    }
   ],
   "source": [
    "arr1 = [5,6,2,7,3,1,9,8]\n",
    "print(heapsort(arr1))\n",
    "arr2 = [23,14,12,9,35,10,8,20]\n",
    "print(heapsort(arr2))"
   ]
  },
  {
   "cell_type": "markdown",
   "metadata": {},
   "source": [
    "###  3.2. Priority Queue\n",
    "\n",
    "Heap can deal with anything that uses to a priority queue. The spirit of priority queue is that, whatever element goes into the queue gets sorted with `O(logn)` time. This makes a lot of problem trivial right away. \n",
    "\n",
    "Some examples:\n",
    "- [[LC23] Merge k Sorted Lists](https://leetcode.com/problems/merge-k-sorted-lists/): throw everything into a heap and pop out everything.\n",
    "- [[LC973] K Closest Points to Origin](https://leetcode.com/problems/k-closest-points-to-origin/): calculate distance and throw points into a max-heap, sorted by their distance. Output the first K elements.\n",
    "\n",
    "Problems above can also be solved using quick sort, since they do not need to access heap elements dynamically. Some problems, however, requires a little twist:\n",
    "- [[LC253] Meeting Rooms II](https://leetcode.com/problems/meeting-rooms-ii/): each element in the min-heap represent a room's next available time; once a new meeting is process, the min-heap automatically pops out the earliest available room.\n",
    "- [[LC295] Find Median from Data Stream](https://leetcode.com/problems/find-median-from-data-stream/): two heaps; one large min-heap to store numbers larger than median, one small max-heap to store numbers smaller than median; take the average of the top of two heaps or choose one to get median."
   ]
  },
  {
   "cell_type": "markdown",
   "metadata": {},
   "source": [
    "### 3.3. Heap Sort in Python\n",
    "\n",
    "The `heapq` module in python provides a min-heap."
   ]
  },
  {
   "cell_type": "code",
   "execution_count": null,
   "metadata": {},
   "outputs": [],
   "source": [
    "import heapq\n",
    "\n",
    "arr3 = [23,11,15,39,35,13,28,21,34]\n",
    "heapq.heapify(arr3) \n",
    "heapq.heappop(arr3) # 11\n",
    "heapq.heappop(arr3) # 13\n",
    "heapq.heappushpop(arr3, 21) # 15\n",
    "\n",
    "# invert elements for max-heap\n",
    "arr4 = [-i for i in arr3]\n",
    "heapq.heapify(arr4)\n",
    "-heapq.heappop(arr4) # 39\n",
    "-heapq.heappop(arr4) # 35\n",
    "-heapq.heappop(arr4) # 34\n",
    "\n",
    "# also able to sort tuples (by first element)\n",
    "arr5 = [(7,9,2), (1,3,2), (5,3,6), (2,4,7)]\n",
    "heapq.heapify(arr5) \n",
    "heapq.heappop(arr5) # (1, 3, 2)\n",
    "heapq.heappop(arr5) # (2, 4, 7)\n",
    "heapq.heappop(arr5) # (5, 3, 6)"
   ]
  },
  {
   "cell_type": "markdown",
   "metadata": {},
   "source": [
    "## 4. TLDR\n",
    "\n"
   ]
  }
 ],
 "metadata": {
  "kernelspec": {
   "display_name": "Python 3",
   "language": "python",
   "name": "python3"
  },
  "language_info": {
   "codemirror_mode": {
    "name": "ipython",
    "version": 3
   },
   "file_extension": ".py",
   "mimetype": "text/x-python",
   "name": "python",
   "nbconvert_exporter": "python",
   "pygments_lexer": "ipython3",
   "version": "3.7.5"
  }
 },
 "nbformat": 4,
 "nbformat_minor": 2
}
